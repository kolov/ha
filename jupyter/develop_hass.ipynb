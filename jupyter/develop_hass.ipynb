{
 "cells": [
  {
   "cell_type": "raw",
   "id": "1788ce68-638e-4148-b860-83b55677d440",
   "metadata": {},
   "source": [
    "First, run utils.py below. Update the cell content if making changes in utils.py"
   ]
  },
  {
   "cell_type": "code",
   "execution_count": 4,
   "id": "2cdfa67c-6f85-45f8-a7fe-e57b6cdf8fde",
   "metadata": {},
   "outputs": [],
   "source": [
    "\n",
    "from datetime import datetime\n",
    "\n",
    "try:\n",
    "    # For the linter\n",
    "    from pyscript_types import state\n",
    "except ImportError:\n",
    "    # When running in Jupyter\n",
    "    pass\n",
    "\n",
    "def set_state_bool(name: str, value: bool) -> None:\n",
    "    if value:\n",
    "        state.set(f\"pyscript.{name}\", 'true')\n",
    "    else:\n",
    "        state.set(f\"pyscript.{name}\", 'false')\n",
    "\n",
    "def get_state_bool(name: str) -> bool:\n",
    "    return state.get(f\"pyscript.{name}\") == 'true'\n",
    "\n",
    "def set_state_datetime(name: str, value: datetime) -> None:\n",
    "    state.set(f\"pyscript.{name}\", value.isoformat())\n",
    "\n",
    "def set_state_none(name: str) -> None:\n",
    "    state.set(f\"pyscript.{name}\", '')\n",
    "\n",
    "def get_state_datetime(name: str) -> datetime | None:\n",
    "    try:\n",
    "        value = state.get(f\"pyscript.{name}\")\n",
    "        if value != \"\":\n",
    "            return datetime.fromisoformat(value)\n",
    "    except Exception as e:\n",
    "        log.error(f\"Error getting datetime: {e}\")\n",
    "        return None\n",
    "    return None\n",
    "\n",
    "def get_state_int(name: str) -> int:\n",
    "    try:\n",
    "        value = state.get(f\"pyscript.{name}\")\n",
    "        if value != \"\":\n",
    "            return int(value)\n",
    "    except NameError:\n",
    "        return 0\n",
    "    return 0\n",
    "\n",
    "def state_inc(name: str) -> None:\n",
    "    value = get_state_int(name)\n",
    "    state.set(f\"pyscript.{name}\", str(value + 1))"
   ]
  },
  {
   "cell_type": "markdown",
   "id": "71e39b89-d9e4-4d18-b50d-06dae414bad0",
   "metadata": {},
   "source": [
    "Then run any other file from pyscript folder"
   ]
  },
  {
   "cell_type": "code",
   "execution_count": 5,
   "id": "fdd7fa0e-9dea-4c0f-944d-ed33fc238e92",
   "metadata": {},
   "outputs": [
    {
     "name": "stdout",
     "output_type": "stream",
     "text": [
      "📤 Publishing to Zigbee2MQTT: {\"device\": \"t_h_inside_bathroom_humidity\", \"payload\": {\"attributes\": [\"humidity\", \"temperature\"]}}\n",
      "✅ Successfully published to Zigbee2MQTT\n",
      "🛁 Bathroom humidity is 59, room humidity is 55\n",
      "✅ Humidity difference <= 10% (bathroom: 59.0%, room: 55.0%) — setting fan to low\n",
      "🛁 Bathroom humidity is 59, room humidity is 55\n",
      "✅ Humidity difference <= 10% (bathroom: 59.0%, room: 55.0%) — setting fan to low\n"
     ]
    }
   ],
   "source": [
    "from datetime import datetime, timedelta\n",
    "from typing import Any, Dict\n",
    "import json\n",
    "\n",
    "try:\n",
    "    from utils import state_inc, set_state_datetime, get_state_datetime, set_state_none\n",
    "except ImportError:\n",
    "    # In Jupyter, execute the content of utils.py in a cell first\n",
    "    pass\n",
    "\n",
    "try:\n",
    "    # For the linter\n",
    "    from pyscript_types import state, service, task, log, state_trigger, time_trigger, pyscript, mqtt_trigger\n",
    "except ImportError:\n",
    "    # When running in Jupyter\n",
    "    pass\n",
    "from datetime import datetime, timedelta\n",
    "\n",
    "MAX_FAN_RUN_TIME = timedelta(hours=1)\n",
    "HUMIDITY_DIFF_OK = 10   \n",
    "HUMIDITY_MAX_FAN = 80\n",
    "HUMIDITY_MEDIUM_FAN = 70\n",
    "\n",
    "fan_start_time = None\n",
    "cooldown_until = None\n",
    "last_humidity = None\n",
    "last_query_time = None\n",
    "\n",
    "@time_trigger(\"cron(* * * * *)\")\n",
    "def check_bathroom_humidity():\n",
    "    global fan_start_time, cooldown_until, last_humidity\n",
    "\n",
    "    bathroom_humidity = state.get(\"sensor.t_h_inside_bathroom_humidity\")\n",
    "    room_humidity = state.get(\"sensor.meter_61e8_humidity\")\n",
    "    \n",
    "    log.info(f\"🛁 Bathroom humidity is {bathroom_humidity}, room humidity is {room_humidity}\")\n",
    "\n",
    "    if bathroom_humidity is not None:\n",
    "        last_humidity = float(bathroom_humidity)\n",
    "\n",
    "    now = datetime.now()\n",
    "\n",
    "    if room_humidity is None:\n",
    "        log.info(\"🏠 Room humidity not available — assuming 55.\")\n",
    "        room_humidity = 55\n",
    "\n",
    "    if bathroom_humidity is None:\n",
    "        log.warning(\"⚠️ Humidity sensor not available — setting fan to low.\")\n",
    "        service.call(\"rest_command\", \"send_fan_low\")\n",
    "        return\n",
    "\n",
    "    bathroom_humidity = float(bathroom_humidity)\n",
    "    room_humidity = float(room_humidity)\n",
    "    humidity_diff = bathroom_humidity - room_humidity\n",
    "\n",
    "    # In cooldown period → run only on low\n",
    "    if cooldown_until and now < cooldown_until:\n",
    "        log.info(\"⏳ In cooldown period — forcing fan to low.\")\n",
    "        service.call(\"rest_command\", \"send_fan_low\")\n",
    "        return\n",
    "\n",
    "    # Overuse → start cooldown\n",
    "    if fan_start_time and (now - fan_start_time) >= MAX_FAN_RUN_TIME:\n",
    "        log.info(\"🔄 Fan ran on medium/max for 1h — setting to low and entering cooldown.\")\n",
    "        service.call(\"rest_command\", \"send_fan_low\")\n",
    "        fan_start_time = None\n",
    "        cooldown_until = now + timedelta(minutes=15)\n",
    "        return\n",
    "    \n",
    "    if humidity_diff < HUMIDITY_DIFF_OK:\n",
    "        log.info(f\"✅ Humidity difference <= {HUMIDITY_DIFF_OK}% (bathroom: {bathroom_humidity}%, room: {room_humidity}%) — setting fan to low\")\n",
    "        service.call(\"rest_command\", \"send_fan_low\")\n",
    "        fan_start_time = None\n",
    "        return\n",
    "\n",
    "    if bathroom_humidity > HUMIDITY_MAX_FAN:\n",
    "        log.info(f\"🔥 Bathroom humidity > {HUMIDITY_MAX_FAN}% (bathroom: {bathroom_humidity}%, room: {room_humidity}%) — setting fan to max\")\n",
    "        service.call(\"rest_command\", \"send_fan_max\")\n",
    "        if not fan_start_time:\n",
    "            fan_start_time = now\n",
    "    elif bathroom_humidity > HUMIDITY_MEDIUM_FAN:\n",
    "        log.info(f\"💨 Bathroom humidity > {HUMIDITY_MEDIUM_FAN}% (bathroom: {bathroom_humidity}%, room: {room_humidity}%) — setting fan to medium\")\n",
    "        service.call(\"rest_command\", \"send_fan_medium\")\n",
    "        if not fan_start_time:\n",
    "            fan_start_time = now\n",
    "    else:\n",
    "        log.info(f\"🌬️ Bathroom humidity <= {HUMIDITY_MEDIUM_FAN}% (bathroom: {bathroom_humidity}%, room: {room_humidity}%) — setting fan to low\")\n",
    "        service.call(\"rest_command\", \"send_fan_low\")\n",
    "        fan_start_time = None\n",
    "\n",
    "@time_trigger(\"cron(* * * * *)\")   \n",
    "def refresh_bathroom_humidity():\n",
    "    global last_humidity, last_query_time\n",
    "    \n",
    "    now = datetime.now()\n",
    "    should_query = False\n",
    "\n",
    "    # If we don't have a last query time or last humidity, query immediately\n",
    "    if last_query_time is None or last_humidity is None:\n",
    "        should_query = True\n",
    "    # If last humidity was high, query every minute\n",
    "    elif last_humidity > HUMIDITY_MEDIUM_FAN:\n",
    "        should_query = True\n",
    "    # Otherwise query every 10 minutes\n",
    "    else:\n",
    "        should_query = (now - last_query_time) >= timedelta(minutes=10)\n",
    "    \n",
    "    if should_query:\n",
    "        payload = {\n",
    "            \"device\": \"t_h_inside_bathroom_humidity\",  # Use actual Zigbee2MQTT device name\n",
    "            \"payload\": {\n",
    "                \"attributes\": [\"humidity\", \"temperature\"]\n",
    "            }\n",
    "        }\n",
    "\n",
    "        payload_str = json.dumps(payload)\n",
    "        log.info(f\"📤 Publishing to Zigbee2MQTT: {payload_str}\")\n",
    "        \n",
    "        try:\n",
    "            mqtt.publish(\n",
    "                topic=\"zigbee2mqtt/bridge/request/device/read\",\n",
    "                payload=payload_str\n",
    "            )\n",
    "            log.info(\"✅ Successfully published to Zigbee2MQTT\")\n",
    "        except Exception as e:\n",
    "            log.error(f\"❌ Failed to publish to Zigbee2MQTT: {e}\")\n",
    "            return\n",
    "\n",
    "        last_query_time = now\n",
    "\n",
    "@mqtt_trigger(\"zigbee2mqtt/t_h_inside_bathroom_humidity\")\n",
    "def update_last_humidity(topic=None, payload=None):\n",
    "    global last_humidity\n",
    "    try:\n",
    "        data = json.loads(payload)\n",
    "        humidity = data.get(\"humidity\")\n",
    "        if humidity is not None:\n",
    "            last_humidity = float(humidity)\n",
    "            log.info(f\"📊 Updated last_humidity: {last_humidity}\")\n",
    "        else:\n",
    "            log.warning(\"⚠️ Received payload without humidity value\")\n",
    "    except Exception as e:\n",
    "        log.error(f\"❌ Error parsing humidity payload: {e}\")\n"
   ]
  },
  {
   "cell_type": "code",
   "execution_count": 38,
   "id": "c5db4584-eafa-45ef-981d-122c2cf5149b",
   "metadata": {},
   "outputs": [
    {
     "data": {
      "text/plain": [
       "'92'"
      ]
     },
     "execution_count": 38,
     "metadata": {},
     "output_type": "execute_result"
    }
   ],
   "source": [
    "sensor.espresso_machine_power"
   ]
  },
  {
   "cell_type": "code",
   "execution_count": 37,
   "id": "269f0f53-0a68-4355-bd78-2b600951316b",
   "metadata": {},
   "outputs": [
    {
     "data": {
      "text/plain": [
       "0"
      ]
     },
     "execution_count": 37,
     "metadata": {},
     "output_type": "execute_result"
    }
   ],
   "source": [
    "get_state_int(\"espressos_today\")"
   ]
  },
  {
   "cell_type": "code",
   "execution_count": 17,
   "id": "e645dd3a-4dd0-41d4-838b-83a81c77be4e",
   "metadata": {},
   "outputs": [
    {
     "name": "stdout",
     "output_type": "stream",
     "text": [
      "→ switch.espresso_machine: [state: on]\n",
      "→ number.espresso_machine_countdown: [state: 0]\n",
      "→ select.espresso_machine_power_outage_memory: [state: unknown]\n",
      "→ select.espresso_machine_indicator_mode: [state: off/on]\n",
      "→ sensor.espresso_machine_power: [state: 0]\n",
      "→ sensor.espresso_machine_current: [state: 0]\n",
      "→ sensor.espresso_machine_voltage: [state: 240]\n",
      "→ sensor.espresso_machine_energy: [state: 3]\n",
      "→ switch.espresso_machine_child_lock: [state: unknown]\n",
      "→ update.espresso_machine: [state: off]\n",
      "→ pyscript.espresso_power_avg: [state: 0]\n"
     ]
    }
   ],
   "source": [
    "\n",
    "\n",
    "for eid in state.names():\n",
    "        if \"espre\" in eid:\n",
    "            value = state.get(eid)\n",
    "            log.info(f\"→ {eid}: [state: {value}]\")\n"
   ]
  },
  {
   "cell_type": "code",
   "execution_count": 20,
   "id": "d56dd6a7-400f-4c58-9c63-a94e2ae3be98",
   "metadata": {},
   "outputs": [],
   "source": [
    "from datetime import datetime, timedelta\n",
    "\n",
    "def set_state_datetime(name: str, value: datetime) -> None:\n",
    "    state.set(f\"pyscript.{name}\", value.isoformat())\n",
    "\n",
    "def set_state_none(name: str) -> None:\n",
    "    state.set(f\"pyscript.{name}\", '')\n",
    "\n",
    "def get_state_datetime(name: str) -> datetime | None:\n",
    "    try:\n",
    "        value = state.get(f\"pyscript.{name}\")\n",
    "        if value != \"\":\n",
    "            return datetime.fromisoformat(value)\n",
    "    except Exception as e:\n",
    "        return None\n",
    "    return None"
   ]
  },
  {
   "cell_type": "code",
   "execution_count": 24,
   "id": "075971df-757e-4ec2-b559-819240ccbd14",
   "metadata": {},
   "outputs": [
    {
     "data": {
      "text/plain": [
       "'83'"
      ]
     },
     "execution_count": 24,
     "metadata": {},
     "output_type": "execute_result"
    }
   ],
   "source": [
    "state.get(\"sensor.t_h_inside_bathroom_humidity\") \n"
   ]
  },
  {
   "cell_type": "code",
   "execution_count": 23,
   "id": "4fd286da-3be9-43e8-b1bc-f49fb408c945",
   "metadata": {},
   "outputs": [],
   "source": [
    "service.call(\"automation\", \"trigger\", entity_id=\"automation.select_cast_sound_input\")"
   ]
  },
  {
   "cell_type": "code",
   "execution_count": 34,
   "id": "918cb5dc-d181-44ad-95ec-276561df900e",
   "metadata": {},
   "outputs": [
    {
     "data": {
      "text/plain": [
       "datetime.datetime(2025, 5, 20, 20, 39, 0, 995143)"
      ]
     },
     "execution_count": 34,
     "metadata": {},
     "output_type": "execute_result"
    }
   ],
   "source": [
    "get_state_datetime('xx')"
   ]
  }
 ],
 "metadata": {
  "kernelspec": {
   "display_name": "hass pyscript",
   "language": "python",
   "name": "pyscript"
  },
  "language_info": {
   "codemirror_mode": "",
   "file_extension": ".py",
   "mimetype": "",
   "name": "python",
   "nbconvert_exporter": "",
   "version": "1.0"
  }
 },
 "nbformat": 4,
 "nbformat_minor": 5
}
