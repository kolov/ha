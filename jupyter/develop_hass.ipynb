{
 "cells": [
  {
   "cell_type": "markdown",
   "id": "4aa14724-a071-4d05-9cbc-0e4cd908755f",
   "metadata": {},
   "source": [
    "First execute the content of utils.py. Update if necessary."
   ]
  },
  {
   "cell_type": "code",
   "execution_count": 17,
   "id": "e306ba5c-85a5-41a5-bd5a-3fa4c9d0212c",
   "metadata": {},
   "outputs": [
    {
     "data": {
      "text/plain": [
       "''"
      ]
     },
     "execution_count": 17,
     "metadata": {},
     "output_type": "execute_result"
    }
   ],
   "source": [
    "pyscript.silence_start"
   ]
  },
  {
   "cell_type": "code",
   "execution_count": 1,
   "id": "2cdfa67c-6f85-45f8-a7fe-e57b6cdf8fde",
   "metadata": {},
   "outputs": [],
   "source": [
    "\n",
    "try:\n",
    "    # For the linter\n",
    "    from pyscript_types import state, datetime\n",
    "except ImportError:\n",
    "    # When running in Jupyter\n",
    "    pass\n",
    "\n",
    "def set_state_bool(name: str, value: bool) -> None:\n",
    "    if value:\n",
    "        state.set(f\"pyscript.{name}\", 'true')\n",
    "    else:\n",
    "        state.set(f\"pyscript.{name}\", 'false')\n",
    "\n",
    "def get_state_bool(name: str) -> bool:\n",
    "    return state.get(f\"pyscript.{name}\") == 'true'\n",
    "\n",
    "def set_state_datetime(name: str, value: datetime) -> None:\n",
    "    state.set(f\"pyscript.{name}\", value.isoformat())\n",
    "\n",
    "def set_state_none(name: str) -> None:\n",
    "    state.set(f\"pyscript.{name}\", '')\n",
    "\n",
    "def get_state_datetime(name: str) -> datetime | None:\n",
    "    value = state.get(f\"pyscript.{name}\")\n",
    "    if value != \"\":\n",
    "      return datetime.fromisoformat(value)\n",
    "    return None\n",
    "\n",
    "def get_state_int(name: str) -> int:\n",
    "    try:\n",
    "        value = state.get(f\"pyscript.{name}\")\n",
    "        if value != \"\":\n",
    "            return int(value)\n",
    "    except NameError:\n",
    "        return 0\n",
    "    return 0\n",
    "\n",
    "def state_inc(name: str) -> None:\n",
    "    value = get_state_int(name)\n",
    "    state.set(f\"pyscript.{name}\", str(value + 1))"
   ]
  },
  {
   "cell_type": "markdown",
   "id": "71e39b89-d9e4-4d18-b50d-06dae414bad0",
   "metadata": {},
   "source": [
    "Then run any other file from pyscript folder"
   ]
  },
  {
   "cell_type": "code",
   "execution_count": 33,
   "id": "fdd7fa0e-9dea-4c0f-944d-ed33fc238e92",
   "metadata": {},
   "outputs": [],
   "source": [
    "from datetime import datetime, timedelta\n",
    "from typing import Any, Dict\n",
    "import json\n",
    "\n",
    "try:\n",
    "    from .utils import state_inc, set_state_datetime, get_state_datetime, set_state_none\n",
    "except ImportError:\n",
    "    # In Jupyter, execute the content of utils.py in a cell first\n",
    "    pass\n",
    "\n",
    "try:\n",
    "    # For the linter\n",
    "    from pyscript_types import state, service, task, log, state_trigger, time_trigger, pyscript\n",
    "except ImportError:\n",
    "    # When running in Jupyter\n",
    "    pass\n",
    "\n",
    "# Constants\n",
    "SWITCH_AFTER_LOW_POWER_MINUTES: int = 6\n",
    "# will detect coffi made when above\n",
    "COFFE_MAKING_POWER_LOWER = 800\n",
    "# will detect coffi made when above for at least\n",
    "COFFEE_MAKING_DURATION_MIN_SECONDS = 10\n",
    "\n",
    "power_history = []\n",
    "\n",
    "@mqtt_trigger(\"zigbee2mqtt/espresso_machine\")\n",
    "def update_power_average(payload=None):\n",
    "    global power_history\n",
    "\n",
    "    try:\n",
    "        data = json.loads(payload)\n",
    "        power = float(data.get(\"power\", 0))\n",
    "    except Exception as e:\n",
    "        log.error(f\"Failed to parse MQTT power payload: {e}\")\n",
    "        return\n",
    "\n",
    "    now = datetime.now()\n",
    "\n",
    " \n",
    "    power_history.append((now, power))\n",
    " \n",
    "    cutoff = now - timedelta(minutes=5)\n",
    "    power_history = [(ts, val) for ts, val in power_history if ts >= cutoff]\n",
    "\n",
    "    if power_history:\n",
    "        total = 0\n",
    "        for _, val in power_history:\n",
    "          total += val \n",
    "        pyscript.espresso_power_avg=int(total / len(power_history))\n",
    "        log.info(f\"☕ Power avg over 3min: {pyscript.espresso_power_avg}W from {len(power_history)} readings\")\n",
    "\n",
    "\n",
    "VAR_LAST_LOW_POWER: str = \"last_low_power\" \n",
    "set_state_none(VAR_LAST_LOW_POWER)\n",
    "\n",
    "@state_trigger(\"pyscript.espresso_power_avg\")\n",
    "@time_trigger(\"period(minute=1)\")  # Ensure periodic check in case of no new updates\n",
    "def check_espresso_inactive(value=None):\n",
    "    global last_low_power\n",
    "\n",
    "    power = int(value)   \n",
    "    now = datetime.now()\n",
    "\n",
    "\n",
    "    if 1 < power < 400:\n",
    "        last_low_power=get_state_datetime(VAR_LAST_LOW_POWER)\n",
    "        if last_low_power is None: \n",
    "            set_state_datetime(VAR_LAST_LOW_POWER, now)     \n",
    "        else:                   \n",
    "            if now - last_low_power >= timedelta(minutes=SWITCH_AFTER_LOW_POWER_MINUTES):\n",
    "                log.info(f\"☕ Power {power}W below threshold for 6 min — cycling power\")\n",
    "                service.call(\"switch\", \"turn_off\", entity_id=\"switch.espresso_machine\")\n",
    "                task.sleep(5)\n",
    "                service.call(\"switch\", \"turn_on\", entity_id=\"switch.espresso_machine\")\n",
    "                set_state_none(VAR_LAST_LOW_POWER)\n",
    "    else:\n",
    "        set_state_none(VAR_LAST_LOW_POWER)      \n",
    "\n",
    "\n",
    "@state_trigger(\"sensor.espresso_machine_power | float > 800\")\n",
    "async def coffee_counter(value=None):\n",
    "    task.unique(\"coffee_counter\", kill_me=True)\n",
    "    try:\n",
    "        power = float(value)\n",
    "    except (ValueError, TypeError):\n",
    "        return\n",
    "\n",
    "    log.info(f\"☕ Power above 800W detected ({power}W) — waiting 10 seconds to confirm...\")\n",
    "    await task.sleep(COFFEE_MAKING_DURATION_MIN_SECONDS)\n",
    "\n",
    "    # Re-check the power\n",
    "    current_power = float(state.get(\"sensor.espresso_machine_power\"))\n",
    "    if current_power > 800:\n",
    "        log.info(f\"☕ Power still above {COFFE_MAKING_POWER_LOWER}W after {COFFEE_MAKING_DURATION_MIN_SECONDS}s — counting coffee\")\n",
    "        state_inc(\"espressos_today\")\n",
    "    else:\n",
    "        log.info(f\"❌ Power dropped to {current_power}W — no coffee counted\")        "
   ]
  },
  {
   "cell_type": "code",
   "execution_count": 38,
   "id": "c5db4584-eafa-45ef-981d-122c2cf5149b",
   "metadata": {},
   "outputs": [
    {
     "data": {
      "text/plain": [
       "'92'"
      ]
     },
     "execution_count": 38,
     "metadata": {},
     "output_type": "execute_result"
    }
   ],
   "source": [
    "sensor.espresso_machine_power"
   ]
  },
  {
   "cell_type": "code",
   "execution_count": 37,
   "id": "269f0f53-0a68-4355-bd78-2b600951316b",
   "metadata": {},
   "outputs": [
    {
     "data": {
      "text/plain": [
       "0"
      ]
     },
     "execution_count": 37,
     "metadata": {},
     "output_type": "execute_result"
    }
   ],
   "source": [
    "get_state_int(\"espressos_today\")"
   ]
  },
  {
   "cell_type": "code",
   "execution_count": 17,
   "id": "e645dd3a-4dd0-41d4-838b-83a81c77be4e",
   "metadata": {},
   "outputs": [
    {
     "name": "stdout",
     "output_type": "stream",
     "text": [
      "→ switch.espresso_machine: [state: on]\n",
      "→ number.espresso_machine_countdown: [state: 0]\n",
      "→ select.espresso_machine_power_outage_memory: [state: unknown]\n",
      "→ select.espresso_machine_indicator_mode: [state: off/on]\n",
      "→ sensor.espresso_machine_power: [state: 0]\n",
      "→ sensor.espresso_machine_current: [state: 0]\n",
      "→ sensor.espresso_machine_voltage: [state: 240]\n",
      "→ sensor.espresso_machine_energy: [state: 3]\n",
      "→ switch.espresso_machine_child_lock: [state: unknown]\n",
      "→ update.espresso_machine: [state: off]\n",
      "→ pyscript.espresso_power_avg: [state: 0]\n"
     ]
    }
   ],
   "source": [
    "\n",
    "\n",
    "for eid in state.names():\n",
    "        if \"espre\" in eid:\n",
    "            value = state.get(eid)\n",
    "            log.info(f\"→ {eid}: [state: {value}]\")\n"
   ]
  },
  {
   "cell_type": "code",
   "execution_count": 20,
   "id": "d56dd6a7-400f-4c58-9c63-a94e2ae3be98",
   "metadata": {},
   "outputs": [],
   "source": [
    "from datetime import datetime, timedelta\n",
    "\n",
    "def set_state_datetime(name: str, value: datetime) -> None:\n",
    "    state.set(f\"pyscript.{name}\", value.isoformat())\n",
    "\n",
    "def set_state_none(name: str) -> None:\n",
    "    state.set(f\"pyscript.{name}\", '')\n",
    "\n",
    "def get_state_datetime(name: str) -> datetime | None:\n",
    "    try:\n",
    "        value = state.get(f\"pyscript.{name}\")\n",
    "        if value != \"\":\n",
    "            return datetime.fromisoformat(value)\n",
    "    except Exception as e:\n",
    "        return None\n",
    "    return None"
   ]
  },
  {
   "cell_type": "code",
   "execution_count": 27,
   "id": "075971df-757e-4ec2-b559-819240ccbd14",
   "metadata": {},
   "outputs": [
    {
     "data": {
      "text/plain": [
       "datetime.datetime(2025, 5, 20, 20, 27, 57, 780506)"
      ]
     },
     "execution_count": 27,
     "metadata": {},
     "output_type": "execute_result"
    }
   ],
   "source": [
    "\n",
    "s = get_state_datetime('x' )\n",
    "s\n",
    "\n"
   ]
  },
  {
   "cell_type": "code",
   "execution_count": 32,
   "id": "4fd286da-3be9-43e8-b1bc-f49fb408c945",
   "metadata": {},
   "outputs": [],
   "source": [
    "set_state_datetime('xx', datetime.now())"
   ]
  },
  {
   "cell_type": "code",
   "execution_count": 34,
   "id": "918cb5dc-d181-44ad-95ec-276561df900e",
   "metadata": {},
   "outputs": [
    {
     "data": {
      "text/plain": [
       "datetime.datetime(2025, 5, 20, 20, 39, 0, 995143)"
      ]
     },
     "execution_count": 34,
     "metadata": {},
     "output_type": "execute_result"
    }
   ],
   "source": [
    "get_state_datetime('xx')"
   ]
  }
 ],
 "metadata": {
  "kernelspec": {
   "display_name": "hass pyscript",
   "language": "python",
   "name": "pyscript"
  },
  "language_info": {
   "codemirror_mode": "",
   "file_extension": ".py",
   "mimetype": "",
   "name": "python",
   "nbconvert_exporter": "",
   "version": "1.0"
  }
 },
 "nbformat": 4,
 "nbformat_minor": 5
}
