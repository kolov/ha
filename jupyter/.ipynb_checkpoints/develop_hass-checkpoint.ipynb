{
 "cells": [
  {
   "cell_type": "markdown",
   "id": "4aa14724-a071-4d05-9cbc-0e4cd908755f",
   "metadata": {},
   "source": [
    "First execute the content of utils.py. Update if necessary."
   ]
  },
  {
   "cell_type": "code",
   "execution_count": 32,
   "id": "2cdfa67c-6f85-45f8-a7fe-e57b6cdf8fde",
   "metadata": {},
   "outputs": [],
   "source": [
    "\n",
    "try:\n",
    "    # For the linter\n",
    "    from pyscript_types import state, datetime\n",
    "except ImportError:\n",
    "    # When running in Jupyter\n",
    "    pass\n",
    "\n",
    "def set_state_bool(name: str, value: bool) -> None:\n",
    "    if value:\n",
    "        state.set(f\"pyscript.{name}\", 'true')\n",
    "    else:\n",
    "        state.set(f\"pyscript.{name}\", 'false')\n",
    "\n",
    "def get_state_bool(name: str) -> bool:\n",
    "    return state.get(f\"pyscript.{name}\") == 'true'\n",
    "\n",
    "def set_state_datetime(name: str, value: datetime) -> None:\n",
    "    state.set(f\"pyscript.{name}\", value.isoformat())\n",
    "\n",
    "def set_state_none(name: str) -> None:\n",
    "    state.set(f\"pyscript.{name}\", '')\n",
    "\n",
    "def get_state_datetime(name: str) -> datetime | None:\n",
    "    value = state.get(f\"pyscript.{name}\")\n",
    "    if value != \"\":\n",
    "      return datetime.fromisoformat(value)\n",
    "    return None\n",
    "\n",
    "def get_state_int(name: str) -> int:\n",
    "    try:\n",
    "        value = state.get(f\"pyscript.{name}\")\n",
    "        if value != \"\":\n",
    "            return int(value)\n",
    "    except NameError:\n",
    "        return 0\n",
    "    return 0\n",
    "\n",
    "def state_inc(name: str) -> None:\n",
    "    value = get_state_int(name)\n",
    "    state.set(f\"pyscript.{name}\", str(value + 1))"
   ]
  },
  {
   "cell_type": "markdown",
   "id": "71e39b89-d9e4-4d18-b50d-06dae414bad0",
   "metadata": {},
   "source": [
    "Then run any other file from pyscript folder"
   ]
  },
  {
   "cell_type": "code",
   "execution_count": 33,
   "id": "fdd7fa0e-9dea-4c0f-944d-ed33fc238e92",
   "metadata": {},
   "outputs": [],
   "source": [
    "from datetime import datetime, timedelta\n",
    "from typing import Any, Dict\n",
    "import json\n",
    "\n",
    "try:\n",
    "    from .utils import state_inc, set_state_datetime, get_state_datetime, set_state_none\n",
    "except ImportError:\n",
    "    # In Jupyter, execute the content of utils.py in a cell first\n",
    "    pass\n",
    "\n",
    "try:\n",
    "    # For the linter\n",
    "    from pyscript_types import state, service, task, log, state_trigger, time_trigger, pyscript\n",
    "except ImportError:\n",
    "    # When running in Jupyter\n",
    "    pass\n",
    "\n",
    "# Constants\n",
    "SWITCH_AFTER_LOW_POWER_MINUTES: int = 6\n",
    "# will detect coffi made when above\n",
    "COFFE_MAKING_POWER_LOWER = 800\n",
    "# will detect coffi made when above for at least\n",
    "COFFEE_MAKING_DURATION_MIN_SECONDS = 10\n",
    "\n",
    "power_history = []\n",
    "\n",
    "@mqtt_trigger(\"zigbee2mqtt/espresso_machine\")\n",
    "def update_power_average(payload=None):\n",
    "    global power_history\n",
    "\n",
    "    try:\n",
    "        data = json.loads(payload)\n",
    "        power = float(data.get(\"power\", 0))\n",
    "    except Exception as e:\n",
    "        log.error(f\"Failed to parse MQTT power payload: {e}\")\n",
    "        return\n",
    "\n",
    "    now = datetime.now()\n",
    "\n",
    " \n",
    "    power_history.append((now, power))\n",
    " \n",
    "    cutoff = now - timedelta(minutes=5)\n",
    "    power_history = [(ts, val) for ts, val in power_history if ts >= cutoff]\n",
    "\n",
    "    if power_history:\n",
    "        total = 0\n",
    "        for _, val in power_history:\n",
    "          total += val \n",
    "        pyscript.espresso_power_avg=int(total / len(power_history))\n",
    "        log.info(f\"☕ Power avg over 3min: {pyscript.espresso_power_avg}W from {len(power_history)} readings\")\n",
    "\n",
    "\n",
    "VAR_LAST_LOW_POWER: str = \"last_low_power\" \n",
    "set_state_none(VAR_LAST_LOW_POWER)\n",
    "\n",
    "@state_trigger(\"pyscript.espresso_power_avg\")\n",
    "@time_trigger(\"period(minute=1)\")  # Ensure periodic check in case of no new updates\n",
    "def check_espresso_inactive(value=None):\n",
    "    global last_low_power\n",
    "\n",
    "    power = int(value)   \n",
    "    now = datetime.now()\n",
    "\n",
    "\n",
    "    if 1 < power < 400:\n",
    "        last_low_power=get_state_datetime(VAR_LAST_LOW_POWER)\n",
    "        if last_low_power is None: \n",
    "            set_state_datetime(VAR_LAST_LOW_POWER, now)     \n",
    "        else:                   \n",
    "            if now - last_low_power >= timedelta(minutes=SWITCH_AFTER_LOW_POWER_MINUTES):\n",
    "                log.info(f\"☕ Power {power}W below threshold for 6 min — cycling power\")\n",
    "                service.call(\"switch\", \"turn_off\", entity_id=\"switch.espresso_machine\")\n",
    "                task.sleep(5)\n",
    "                service.call(\"switch\", \"turn_on\", entity_id=\"switch.espresso_machine\")\n",
    "                set_state_none(VAR_LAST_LOW_POWER)\n",
    "    else:\n",
    "        set_state_none(VAR_LAST_LOW_POWER)      \n",
    "\n",
    "\n",
    "@state_trigger(\"sensor.espresso_machine_power | float > 800\")\n",
    "async def coffee_counter(value=None):\n",
    "    task.unique(\"coffee_counter\", kill_me=True)\n",
    "    try:\n",
    "        power = float(value)\n",
    "    except (ValueError, TypeError):\n",
    "        return\n",
    "\n",
    "    log.info(f\"☕ Power above 800W detected ({power}W) — waiting 10 seconds to confirm...\")\n",
    "    await task.sleep(COFFEE_MAKING_DURATION_MIN_SECONDS)\n",
    "\n",
    "    # Re-check the power\n",
    "    current_power = float(state.get(\"sensor.espresso_machine_power\"))\n",
    "    if current_power > 800:\n",
    "        log.info(f\"☕ Power still above {COFFE_MAKING_POWER_LOWER}W after {COFFEE_MAKING_DURATION_MIN_SECONDS}s — counting coffee\")\n",
    "        state_inc(\"espressos_today\")\n",
    "    else:\n",
    "        log.info(f\"❌ Power dropped to {current_power}W — no coffee counted\")        "
   ]
  },
  {
   "cell_type": "code",
   "execution_count": 38,
   "id": "c5db4584-eafa-45ef-981d-122c2cf5149b",
   "metadata": {},
   "outputs": [
    {
     "data": {
      "text/plain": [
       "'92'"
      ]
     },
     "execution_count": 38,
     "metadata": {},
     "output_type": "execute_result"
    }
   ],
   "source": [
    "sensor.espresso_machine_power"
   ]
  },
  {
   "cell_type": "code",
   "execution_count": 37,
   "id": "269f0f53-0a68-4355-bd78-2b600951316b",
   "metadata": {},
   "outputs": [
    {
     "data": {
      "text/plain": [
       "0"
      ]
     },
     "execution_count": 37,
     "metadata": {},
     "output_type": "execute_result"
    }
   ],
   "source": [
    "get_state_int(\"espressos_today\")"
   ]
  },
  {
   "cell_type": "code",
   "execution_count": 17,
   "id": "e645dd3a-4dd0-41d4-838b-83a81c77be4e",
   "metadata": {},
   "outputs": [
    {
     "name": "stdout",
     "output_type": "stream",
     "text": [
      "→ switch.espresso_machine: [state: on]\n",
      "→ number.espresso_machine_countdown: [state: 0]\n",
      "→ select.espresso_machine_power_outage_memory: [state: unknown]\n",
      "→ select.espresso_machine_indicator_mode: [state: off/on]\n",
      "→ sensor.espresso_machine_power: [state: 0]\n",
      "→ sensor.espresso_machine_current: [state: 0]\n",
      "→ sensor.espresso_machine_voltage: [state: 240]\n",
      "→ sensor.espresso_machine_energy: [state: 3]\n",
      "→ switch.espresso_machine_child_lock: [state: unknown]\n",
      "→ update.espresso_machine: [state: off]\n",
      "→ pyscript.espresso_power_avg: [state: 0]\n"
     ]
    }
   ],
   "source": [
    "\n",
    "\n",
    "for eid in state.names():\n",
    "        if \"espre\" in eid:\n",
    "            value = state.get(eid)\n",
    "            log.info(f\"→ {eid}: [state: {value}]\")\n"
   ]
  },
  {
   "cell_type": "code",
   "execution_count": 15,
   "id": "d56dd6a7-400f-4c58-9c63-a94e2ae3be98",
   "metadata": {},
   "outputs": [
    {
     "name": "stdout",
     "output_type": "stream",
     "text": [
      "['update.home_assistant_supervisor_update', 'update.home_assistant_core_update', 'update.matter_server_update', 'update.mosquitto_broker_update', 'update.advanced_ssh_web_terminal_update', 'update.file_editor_update', 'update.zigbee2mqtt_update', 'update.home_assistant_operating_system_update', 'conversation.home_assistant', 'sensor.backup_backup_manager_state', 'sensor.backup_next_scheduled_automatic_backup', 'sensor.backup_last_successful_automatic_backup', 'scene.sleeping', 'zone.home', 'person.assen', 'sun.sun', 'sensor.sun_next_dawn', 'sensor.sun_next_dusk', 'sensor.sun_next_midnight', 'sensor.sun_next_noon', 'sensor.sun_next_rising', 'sensor.sun_next_setting', 'counter.coffies_made', 'sensor.coffee_machine_power_average', 'weather.forecast_home', 'binary_sensor.assens_iphone_focus', 'device_tracker.assens_iphone', 'sensor.assens_iphone_battery_level', 'sensor.assens_iphone_battery_state', 'sensor.assens_iphone_storage', 'sensor.assens_iphone_sim_2', 'sensor.assens_iphone_ssid', 'sensor.assens_iphone_sim_1', 'sensor.assens_iphone_bssid', 'sensor.assens_iphone_connection_type', 'sensor.assens_iphone_geocoded_location', 'sensor.assens_iphone_last_update_trigger', 'sensor.assens_iphone_location_permission', 'sensor.assens_iphone_app_version', 'sensor.assens_iphone_audio_output', 'sensor.assens_iphone_activity', 'sensor.assens_iphone_distance', 'sensor.assens_iphone_floors_ascended', 'sensor.assens_iphone_average_active_pace', 'sensor.assens_iphone_floors_descended', 'sensor.assens_iphone_steps', 'media_player.living_room_speaker', 'todo.shopping_list', 'sensor.hp_laserjet_m109_m112_black_cartridge_hp_w1420a', 'tts.google_translate_en_com', 'sensor.meter_61e8_temperature', 'sensor.meter_61e8_humidity', 'sensor.meter_61e8_battery', 'sensor.meter_61e8_carbon_dioxide', 'automation.big_yellow_turns_on_amplifier', 'automation.big_yellow_long_press_switch_off_amplifier', 'automation.switch_off_coffee_machine_after_6min_inactive', 'automation.count_coffees', 'automation.turn_music_off_at_night', 'automation.reset_coffee_counter_daily', 'automation.casting_musing_turns_on_amplifier', 'automation.stop_amp_if_no_music_is_playing', 'automation.blue_button_channel_1', 'automation.casting_music_selects_optical_1', 'automation.turning_on_tv_selects_optical_2', 'automation.turning_off_tv_selects_optical_1', 'automation.blue_button_hold_sends_space', 'automation.bedroom_sleeps', 'automation.bedroom_wakes', 'automation.deco_bedroom_off_when_desk_bedroom_free', 'automation.new_automation', 'automation.turn_knob_right_sets_volume_up', 'automation.turn_knob_left_sets_volume_down', 'sensor.hp_laserjet_m109_m112', 'binary_sensor.zigbee2mqtt_bridge_connection_state', 'binary_sensor.presence_hallway_occupancy', 'binary_sensor.presence_desk_bedroom_occupancy', 'binary_sensor.presence_desk_bedroom_battery_low', 'button.zigbee2mqtt_bridge_restart', 'binary_sensor.roborock_s6_maxv_mop_attached', 'binary_sensor.roborock_s6_maxv_water_box_attached', 'binary_sensor.roborock_s6_maxv_cleaning', 'binary_sensor.roborock_s6_maxv_charging', 'image.roborock_s6_maxv_map_0', 'select.roborock_s6_maxv_mop_intensity', 'select.roborock_s6_maxv_selected_map', 'sensor.roborock_s6_maxv_main_brush_time_left', 'sensor.roborock_s6_maxv_side_brush_time_left', 'sensor.roborock_s6_maxv_filter_time_left', 'sensor.roborock_s6_maxv_sensor_time_left', 'sensor.roborock_s6_maxv_cleaning_time', 'sensor.roborock_s6_maxv_total_cleaning_time', 'sensor.roborock_s6_maxv_total_cleaning_count', 'sensor.roborock_s6_maxv_status', 'sensor.roborock_s6_maxv_cleaning_area', 'sensor.roborock_s6_maxv_total_cleaning_area', 'sensor.roborock_s6_maxv_vacuum_error', 'sensor.roborock_s6_maxv_battery', 'sensor.roborock_s6_maxv_last_clean_begin', 'sensor.roborock_s6_maxv_last_clean_end', 'sensor.roborock_s6_maxv_current_room', 'vacuum.roborock_s6_maxv', 'number.roborock_s6_maxv_volume', 'number.stereo_amplifier_countdown', 'number.presence_hallway_illuminance_interval', 'number.soil_green_sensor_temperature_sensitivity', 'number.soil_green_sensor_humidity_sensitivity', 'number.soil_green_sensor_max_temperature_alarm', 'number.soil_green_sensor_min_temperature_alarm', 'number.soil_green_sensor_max_humidity_alarm', 'number.soil_green_sensor_min_humidity_alarm', 'number.soil_green_sensor_schedule_periodic', 'switch.roborock_s6_maxv_dock_child_lock', 'switch.roborock_s6_maxv_do_not_disturb', 'time.roborock_s6_maxv_do_not_disturb_begin', 'time.roborock_s6_maxv_do_not_disturb_end', 'select.zigbee2mqtt_bridge_log_level', 'select.deco_corridor_power_outage_memory', 'select.deco_corridor_indicator_mode', 'select.washing_machine_power_outage_memory', 'select.washing_machine_indicator_mode', 'select.stereo_amplifier_power_outage_memory', 'select.stereo_amplifier_indicator_mode', 'select.deco_bedroom_power_outage_memory', 'select.deco_bedroom_indicator_mode', 'select.presence_hallway_sensitivity', 'select.presence_hallway_keep_time', 'select.white_knob_operation_mode', 'select.white_cube_operation_mode', 'select.deco_corridor_power_outage_memory_2', 'select.deco_corridor_indicator_mode_2', 'select.soil_blue_temperature_unit', 'sensor.zigbee2mqtt_bridge_version', 'sensor.deco_corridor_power', 'sensor.deco_corridor_current', 'sensor.deco_corridor_voltage', 'sensor.deco_corridor_energy', 'sensor.t_h_living_battery_2', 'sensor.t_h_living_temperature_2', 'sensor.t_h_living_humidity_2', 'sensor.t_h_living_voltage', 'sensor.big_blue_button_battery', 'sensor.washing_machine_power', 'sensor.washing_machine_current', 'sensor.washing_machine_voltage', 'sensor.washing_machine_energy', 'sensor.stereo_amplifier_power', 'sensor.stereo_amplifier_current', 'sensor.stereo_amplifier_voltage', 'sensor.stereo_amplifier_energy', 'sensor.deco_bedroom_power', 'sensor.deco_bedroom_current', 'sensor.deco_bedroom_voltage', 'sensor.deco_bedroom_energy', 'sensor.t_h_bathroom_battery', 'sensor.t_h_bathroom_temperature', 'sensor.t_h_bathroom_humidity', 'sensor.t_h_bathroom_voltage', 'sensor.presence_hallway_illuminance', 'sensor.presence_hallway_battery', 'sensor.white_knob_battery', 'sensor.soil_green_sensor_soil_moisture', 'sensor.soil_green_sensor_temperature', 'sensor.soil_green_sensor_temperature_f', 'sensor.soil_green_sensor_temperature_alarm', 'sensor.soil_green_sensor_humidity_alarm', 'sensor.soil_green_sensor_battery', 'sensor.soil_green_sensor_battery_state', 'sensor.white_cube_battery', 'sensor.white_cube_voltage', 'sensor.white_cube_side', 'sensor.white_cube_action_from_side', 'sensor.white_cube_action_angle', 'sensor.deco_corridor_power_2', 'sensor.deco_corridor_current_2', 'sensor.deco_corridor_voltage_2', 'sensor.deco_corridor_energy_2', 'sensor.presence_desk_bedroom_battery', 'sensor.presence_desk_bedroom_voltage', 'sensor.soil_blue_temperature', 'sensor.soil_blue_soil_moisture', 'sensor.soil_blue_battery', 'sensor.soil_blue_battery_state', 'sensor.ir_remote_learned_ir_code', 'switch.zigbee2mqtt_bridge_permit_join', 'switch.deco_corridor', 'switch.deco_corridor_child_lock', 'switch.washing_machine', 'switch.washing_machine_child_lock', 'switch.stereo_amplifier', 'switch.stereo_amplifier_child_lock', 'switch.deco_bedroom', 'switch.deco_bedroom_child_lock', 'switch.deco_corridor_2', 'switch.deco_corridor_child_lock_2', 'switch.ir_remote_learn_ir_code', 'text.ir_remote_ir_code_to_send', 'update.deco_corridor', 'update.t_h_living', 'update.washing_machine', 'update.stereo_amplifier', 'update.deco_bedroom', 'update.t_h_bathroom', 'update.white_cube', 'update.deco_corridor_2', 'media_player.living_room_tv', 'button.lg_webos_tv_85c7_identify', 'media_player.lg_webos_tv_85c7', 'switch.lg_webos_tv_85c7_mute', 'binary_sensor.slzb_06m_ethernet', 'binary_sensor.slzb_06m_internet', 'button.slzb_06m_core_restart', 'button.slzb_06m_zigbee_restart', 'sensor.slzb_06m_connection_mode', 'sensor.slzb_06m_firmware_channel', 'sensor.slzb_06m_core_chip_temp', 'sensor.slzb_06m_zigbee_chip_temp', 'sensor.slzb_06m_zigbee_type', 'switch.slzb_06m_disable_leds', 'switch.slzb_06m_led_night_mode', 'update.slzb_06m_core_firmware', 'update.slzb_06m_zigbee_firmware', 'pyscript.audio_cast_playing', 'pyscript.tv_playing', 'pyscript.speaker_sound', 'pyscript.silence_start', 'sensor.big_yellow_button_battery', 'automation.select_tv_sound_input', 'automation.select_cast_sound_input', 'automation.volume_up', 'automation.volume_down', 'switch.espresso_machine', 'number.espresso_machine_countdown', 'select.espresso_machine_power_outage_memory', 'select.espresso_machine_indicator_mode', 'sensor.espresso_machine_power', 'sensor.espresso_machine_current', 'sensor.espresso_machine_voltage', 'sensor.espresso_machine_energy', 'switch.espresso_machine_child_lock', 'update.espresso_machine', 'pyscript.espresso_power_avg', 'pyscript.last_low_power', 'pyscript.x', 'pyscript.xxx', 'pyscript.audio_cast_streaming', 'sensor.aqara_switch_1_battery', 'sensor.aqara_switch_1_voltage', 'select.aqara_switch_1_click_mode', 'sensor.t_h_emma_room_battery', 'sensor.t_h_emma_room_temperature', 'sensor.t_h_emma_room_humidity', 'sensor.t_h_emma_room_voltage', 'update.t_h_emma_room', 'sensor.soil_dark_green_temperature', 'sensor.soil_dark_green_soil_moisture', 'select.soil_dark_green_temperature_unit', 'sensor.soil_dark_green_battery', 'sensor.soil_dark_green_battery_state']\n"
     ]
    }
   ],
   "source": [
    "log.info(str(state.names()))"
   ]
  }
 ],
 "metadata": {
  "kernelspec": {
   "display_name": "hass pyscript",
   "language": "python",
   "name": "pyscript"
  },
  "language_info": {
   "codemirror_mode": "",
   "file_extension": ".py",
   "mimetype": "",
   "name": "python",
   "nbconvert_exporter": "",
   "version": "1.0"
  }
 },
 "nbformat": 4,
 "nbformat_minor": 5
}
